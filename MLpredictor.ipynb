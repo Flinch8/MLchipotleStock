{
 "cells": [
  {
   "cell_type": "code",
   "execution_count": 28,
   "metadata": {
    "collapsed": true
   },
   "outputs": [
    {
     "name": "stdout",
     "output_type": "stream",
     "text": [
      "             Open   High    Low  Close      Volume  Ex-Dividend  Split Ratio  \\\n",
      "Date                                                                           \n",
      "2006-01-26  45.00  48.28  39.51  44.00  13218600.0          0.0          1.0   \n",
      "2006-01-27  44.88  44.90  41.75  42.20   1150800.0          0.0          1.0   \n",
      "2006-01-30  42.20  45.51  41.25  44.80    735800.0          0.0          1.0   \n",
      "2006-01-31  45.50  49.30  45.38  47.52   1111200.0          0.0          1.0   \n",
      "2006-02-01  48.90  49.24  45.25  46.56    606700.0          0.0          1.0   \n",
      "\n",
      "            Adj. Open  Adj. High  Adj. Low  Adj. Close  Adj. Volume  \n",
      "Date                                                                 \n",
      "2006-01-26      45.00      48.28     39.51       44.00   13218600.0  \n",
      "2006-01-27      44.88      44.90     41.75       42.20    1150800.0  \n",
      "2006-01-30      42.20      45.51     41.25       44.80     735800.0  \n",
      "2006-01-31      45.50      49.30     45.38       47.52    1111200.0  \n",
      "2006-02-01      48.90      49.24     45.25       46.56     606700.0  \n"
     ]
    }
   ],
   "source": [
    "%matplotlib inline\n",
    "import matplotlib\n",
    "import pandas as pd\n",
    "import quandl #to get stock data\n",
    "import numpy as np\n",
    "import datetime\n",
    "import warnings; warnings.simplefilter('ignore') #ignoring constant warnings in Jupyter Notebook\n",
    "import matplotlib.pyplot as plt #to graph predicitons\n",
    "\n",
    "from sklearn.linear_model import LinearRegression\n",
    "from sklearn import preprocessing, cross_validation, svm \n",
    "\n",
    "#creating a dataframe holding stock from company of choice in format \"WIKI/companyticker\", here we use Chipotle, Inc., where the ticker is CMG\n",
    "\n",
    "df = quandl.get(\"WIKI/CMG\")\n",
    "\n",
    "#looking at the head of the whole dataframe\n",
    "print(df.head())\n"
   ]
  },
  {
   "cell_type": "code",
   "execution_count": 6,
   "metadata": {},
   "outputs": [
    {
     "name": "stdout",
     "output_type": "stream",
     "text": [
      "            Adj. Close  Prediction\n",
      "Date                              \n",
      "2018-02-13      251.33         NaN\n",
      "2018-02-14      289.91         NaN\n",
      "2018-02-15      286.65         NaN\n",
      "2018-02-16      305.63         NaN\n",
      "2018-02-20      317.57         NaN\n"
     ]
    }
   ],
   "source": [
    "#isolating the Adj. Close column we will use in our predictions \n",
    "df = df[['Adj. Close']]\n",
    "\n",
    "#forecasting 30 days into the future \n",
    "forecast = int(30)\n",
    "#label column with data shifted 30 units\n",
    "df['Prediction'] = df[['Adj. Close']].shift(-forecast)\n",
    "\n",
    "#seeing the head of the dataframe to be used for prediction\n",
    "print(df.tail())"
   ]
  },
  {
   "cell_type": "code",
   "execution_count": 13,
   "metadata": {},
   "outputs": [],
   "source": [
    "#X variable will be an array of the Adj. Close values, need to get rid of prediction column\n",
    "X = np.array(df.drop(['Prediction'], 1))\n",
    "X = preprocessing.scale(X)\n",
    "\n",
    "X_forecast = X[-forecast:] #setting X_forecast equal to last 30 \n",
    "X = X[:-forecast] #remove last 30 from X\n",
    "\n",
    "y = np.array(df['Prediction']) #result of interest, array holding just the prediction values\n",
    "y = y[:-forecast] #Clearing out the last 30 from Y\n"
   ]
  },
  {
   "cell_type": "code",
   "execution_count": 29,
   "metadata": {},
   "outputs": [
    {
     "name": "stdout",
     "output_type": "stream",
     "text": [
      "confidence:  0.963164623618\n",
      "[ 320.03321452  320.9070834   323.26652936  326.85910141  328.64567778\n",
      "  328.67480675  335.72401568  338.5398154   344.69573615  331.2284458\n",
      "  329.97590041  330.77209205  335.08317851  331.45176784  333.49079522\n",
      "  323.53839968  326.140587    316.3920942   313.40152071  302.39077286\n",
      "  306.3037635   275.11635425  269.09636866  258.85268349  257.87200842\n",
      "  254.84259631  292.30244216  289.1370949   307.56601854  319.15934564]\n"
     ]
    }
   ],
   "source": [
    "#Linear Regression\n",
    "#Starting the training process, test size will be 20% of data\n",
    "\n",
    "X_train, X_test, y_train, y_test = cross_validation.train_test_split(X, y, test_size = 0.2)\n",
    "\n",
    "#initiate linear regression model and fit with training data\n",
    "#training\n",
    "clf = LinearRegression() #creating model stored in clf variable\n",
    "clf.fit(X_train, y_train) #fitting the model with the training data\n",
    "\n",
    "#testing \n",
    "confidence = clf.score(X_test, y_test) \n",
    "print(\"confidence: \", confidence)\n",
    "\n",
    "#predicting our X_forecast values\n",
    "forecast_prediction = clf.predict(X_forecast) #calling the model to predict the X_forecast variable and storing into variable forecast_prediction\n",
    "print(forecast_prediction)"
   ]
  },
  {
   "cell_type": "code",
   "execution_count": 27,
   "metadata": {},
   "outputs": [
    {
     "data": {
      "text/plain": [
       "Text(0.5,1,'Chipotle(CMG) Price Predictions, Next 30 Days')"
      ]
     },
     "execution_count": 27,
     "metadata": {},
     "output_type": "execute_result"
    },
    {
     "data": {
      "image/png": "[encoded data removed]",
      "text/plain": [
       "<matplotlib.figure.Figure at 0x1a16ca7588>"
      ]
     },
     "metadata": {},
     "output_type": "display_data"
    }
   ],
   "source": [
    "#graphing our predictions \n",
    "plt.plot(forecast_prediction)\n",
    "plt.xlabel('Day')\n",
    "plt.ylabel('Price')\n",
    "plt.grid(True)\n",
    "plt.title('Chipotle(CMG) Price Predictions, Next 30 Days')\n"
   ]
  },
  {
   "cell_type": "code",
   "execution_count": null,
   "metadata": {
    "collapsed": true
   },
   "outputs": [],
   "source": []
  }
 ],
 "metadata": {
  "kernelspec": {
   "display_name": "Python 3",
   "language": "python",
   "name": "python3"
  },
  "language_info": {
   "codemirror_mode": {
    "name": "ipython",
    "version": 3
   },
   "file_extension": ".py",
   "mimetype": "text/x-python",
   "name": "python",
   "nbconvert_exporter": "python",
   "pygments_lexer": "ipython3",
   "version": "3.6.3"
  }
 },
 "nbformat": 4,
 "nbformat_minor": 2
}
